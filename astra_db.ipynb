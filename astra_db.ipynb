{
 "cells": [
  {
   "cell_type": "code",
   "execution_count": null,
   "metadata": {},
   "outputs": [],
   "source": [
    "import getpass\n",
    "import base64\n",
    "from PIL import Image\n",
    "from io import BytesIO\n",
    "from uuid import uuid4\n",
    "from langchain_core.documents import Document\n",
    "import os\n",
    "from langchain_openai import AzureOpenAIEmbeddings\n",
    "from langchain_astradb import AstraDBVectorStore\n",
    "import csv\n",
    "import json\n",
    "import os\n",
    "import re\n",
    "\n",
    "from langchain_text_splitters import RecursiveCharacterTextSplitter\n",
    "\n"
   ]
  },
  {
   "cell_type": "code",
   "execution_count": null,
   "metadata": {},
   "outputs": [],
   "source": [
    "os.environ[\"OPENAI_API_VERSION\"] = \"2024-02-01\"\n",
    "os.environ[\"AZURE_OPENAI_ENDPOINT\"] = \"https://expazure-openai.openai.azure.com/\"\n",
    "os.environ[\"AZURE_OPENAI_API_KEY\"] = \"7NfDltek1fOyeUm4UDN9Ng8wmagQxtd54CfuS4TcCk6tvtu8nTrEJQQJ99ALAC4f1cMXJ3w3AAABACOGHgtJ\"\n",
    "\n",
    "\n",
    "\n",
    "# desired_namespace = getpass.getpass(\"RPF\")"
   ]
  },
  {
   "cell_type": "code",
   "execution_count": 5,
   "metadata": {},
   "outputs": [],
   "source": [
    "topics=['Maintain a Storage GRID',\n",
    " 'Monitor and troubleshoot a storageGRID system',\n",
    " 'Recovery or Replace Nodes',\n",
    " 'Expand a Grid']"
   ]
  },
  {
   "cell_type": "code",
   "execution_count": null,
   "metadata": {},
   "outputs": [],
   "source": [
    "def get_relevant_data(topics,question):\n",
    "    doc_retrieved=[]\n",
    "    embeddings = AzureOpenAIEmbeddings(\n",
    "        azure_deployment=\"embeddingada\",\n",
    "        openai_api_version=\"2024-02-01\",\n",
    "    )\n",
    "    for topic in topics:\n",
    "        vector_store = AstraDBVectorStore(\n",
    "            collection_name=\"rpf_data\",\n",
    "            embedding=embeddings,\n",
    "          \n",
    "            namespace=\"default_keyspace\",\n",
    "        )\n",
    "\n",
    "        results = vector_store.similarity_search(\n",
    "            f\"{question}\",\n",
    "            k=3,\n",
    "            filter={\"topic\": f\"{topic}\"},\n",
    "        )\n",
    "\n",
    "        for res in results:\n",
    "            doc_retrieved.append(res)\n",
    "            \n",
    "    return doc_retrieved"
   ]
  },
  {
   "cell_type": "code",
   "execution_count": null,
   "metadata": {},
   "outputs": [],
   "source": []
  }
 ],
 "metadata": {
  "kernelspec": {
   "display_name": ".venv",
   "language": "python",
   "name": "python3"
  },
  "language_info": {
   "codemirror_mode": {
    "name": "ipython",
    "version": 3
   },
   "file_extension": ".py",
   "mimetype": "text/x-python",
   "name": "python",
   "nbconvert_exporter": "python",
   "pygments_lexer": "ipython3",
   "version": "3.11.4"
  }
 },
 "nbformat": 4,
 "nbformat_minor": 2
}
